{
 "cells": [
  {
   "cell_type": "markdown",
   "metadata": {},
   "source": [
    "This file is parsing i2b2 training data and annotating it with the CoNLL BIO scheme, which has this form:"
   ]
  },
  {
   "cell_type": "raw",
   "metadata": {},
   "source": [
    "[word] [POS tag] [chunk tag] [NER tag]"
   ]
  },
  {
   "cell_type": "code",
   "execution_count": 1,
   "metadata": {},
   "outputs": [],
   "source": [
    "__author__ = \"Maximilian Hofer\"\n",
    "__copyright__ = \"Copyright 2018\"\n",
    "__license__ = \"MIT\""
   ]
  },
  {
   "cell_type": "code",
   "execution_count": 1,
   "metadata": {},
   "outputs": [],
   "source": [
    "import os\n",
    "from nltk import pos_tag, RegexpParser\n",
    "import pandas as pd\n",
    "import numpy as np"
   ]
  },
  {
   "cell_type": "code",
   "execution_count": 2,
   "metadata": {},
   "outputs": [
    {
     "name": "stdout",
     "output_type": "stream",
     "text": [
      "Success: all anotations have a corresponding entry. 261\n"
     ]
    }
   ],
   "source": [
    "a_ids = []\n",
    "e_ids = []\n",
    "\n",
    "for filename in os.listdir(\"./data/annotations\"):\n",
    "    if filename[0] != \".\":  # ignore hidden files\n",
    "        a_ids.append(int(filename))\n",
    "for filename in os.listdir(\"./data/entries\"):\n",
    "    if filename[0] != \".\": \n",
    "        e_ids.append(int(filename))\n",
    "    \n",
    "a_ids = tuple(sorted(a_ids)) \n",
    "e_ids = tuple(sorted(e_ids))\n",
    "\n",
    "intersection = list(set(a_ids) & set(e_ids))\n",
    "if len(intersection) == len(a_ids):\n",
    "    print(\"Success: all anotations have a corresponding entry.\", len(intersection))"
   ]
  },
  {
   "cell_type": "markdown",
   "metadata": {},
   "source": [
    "## Build corpora"
   ]
  },
  {
   "cell_type": "code",
   "execution_count": 3,
   "metadata": {},
   "outputs": [],
   "source": [
    "# build annotation and entry corpora\n",
    "\n",
    "a_corpus = []\n",
    "e_corpus = []\n",
    "\n",
    "# only annotations and corresponding files\n",
    "for file in a_ids:\n",
    "    path = \"./data/annotations/\" + str(file)\n",
    "    with open(path) as f:\n",
    "        content = f.read().splitlines()\n",
    "        a_corpus.append(content)\n",
    "\n",
    "    path = \"./data/entries/\" + str(file)\n",
    "    with open(path) as f:\n",
    "        #content = f.readlines()\n",
    "        content = f.read().splitlines()\n",
    "        e_corpus.append(content)\n",
    "    "
   ]
  },
  {
   "cell_type": "markdown",
   "metadata": {},
   "source": [
    "## Set up dataframe"
   ]
  },
  {
   "cell_type": "code",
   "execution_count": 5,
   "metadata": {},
   "outputs": [],
   "source": [
    "#  [\"id\", \"row\", \"offset\", \"word\", \"POS\", \"chunk\", \"NER\"]\n",
    "entries_cols = [\"id\", \"row\", \"offset\", \"word\"]\n",
    "entries_df = pd.DataFrame(columns=entries_cols)"
   ]
  },
  {
   "cell_type": "code",
   "execution_count": 6,
   "metadata": {},
   "outputs": [
    {
     "data": {
      "text/html": [
       "<div>\n",
       "<style scoped>\n",
       "    .dataframe tbody tr th:only-of-type {\n",
       "        vertical-align: middle;\n",
       "    }\n",
       "\n",
       "    .dataframe tbody tr th {\n",
       "        vertical-align: top;\n",
       "    }\n",
       "\n",
       "    .dataframe thead th {\n",
       "        text-align: right;\n",
       "    }\n",
       "</style>\n",
       "<table border=\"1\" class=\"dataframe\">\n",
       "  <thead>\n",
       "    <tr style=\"text-align: right;\">\n",
       "      <th></th>\n",
       "      <th>id</th>\n",
       "      <th>row</th>\n",
       "      <th>offset</th>\n",
       "      <th>word</th>\n",
       "    </tr>\n",
       "  </thead>\n",
       "  <tbody>\n",
       "  </tbody>\n",
       "</table>\n",
       "</div>"
      ],
      "text/plain": [
       "Empty DataFrame\n",
       "Columns: [id, row, offset, word]\n",
       "Index: []"
      ]
     },
     "execution_count": 6,
     "metadata": {},
     "output_type": "execute_result"
    }
   ],
   "source": [
    "entries_df.head()"
   ]
  },
  {
   "cell_type": "code",
   "execution_count": 7,
   "metadata": {},
   "outputs": [],
   "source": [
    "annotations_cols = [\"id\", \"NER_tag\", \"row\", \"offset\", \"length\"]\n",
    "annotations_df = pd.DataFrame(columns=annotations_cols)"
   ]
  },
  {
   "cell_type": "code",
   "execution_count": 8,
   "metadata": {},
   "outputs": [
    {
     "data": {
      "text/html": [
       "<div>\n",
       "<style scoped>\n",
       "    .dataframe tbody tr th:only-of-type {\n",
       "        vertical-align: middle;\n",
       "    }\n",
       "\n",
       "    .dataframe tbody tr th {\n",
       "        vertical-align: top;\n",
       "    }\n",
       "\n",
       "    .dataframe thead th {\n",
       "        text-align: right;\n",
       "    }\n",
       "</style>\n",
       "<table border=\"1\" class=\"dataframe\">\n",
       "  <thead>\n",
       "    <tr style=\"text-align: right;\">\n",
       "      <th></th>\n",
       "      <th>id</th>\n",
       "      <th>NER_tag</th>\n",
       "      <th>row</th>\n",
       "      <th>offset</th>\n",
       "      <th>length</th>\n",
       "    </tr>\n",
       "  </thead>\n",
       "  <tbody>\n",
       "  </tbody>\n",
       "</table>\n",
       "</div>"
      ],
      "text/plain": [
       "Empty DataFrame\n",
       "Columns: [id, NER_tag, row, offset, length]\n",
       "Index: []"
      ]
     },
     "execution_count": 8,
     "metadata": {},
     "output_type": "execute_result"
    }
   ],
   "source": [
    "annotations_df.head()"
   ]
  },
  {
   "cell_type": "markdown",
   "metadata": {},
   "source": [
    "## Number of annotations"
   ]
  },
  {
   "cell_type": "code",
   "execution_count": 36,
   "metadata": {},
   "outputs": [
    {
     "name": "stdout",
     "output_type": "stream",
     "text": [
      "Medication annotations:  9318\n",
      "Dosage annotations:  4666\n",
      "Mode annotations:  3513\n",
      "Frequency annotations:  4229\n",
      "Duration annotations:  571\n",
      "Reason annotations:  1694\n"
     ]
    }
   ],
   "source": [
    "med_count = 0\n",
    "dosage_count = 0\n",
    "mode_count = 0\n",
    "freq_count = 0\n",
    "dur_count = 0\n",
    "reason_count = 0\n",
    "\n",
    "for document in a_corpus:\n",
    "    for line in document:\n",
    "        if \"m=\\\"nm\\\"\" not in line:\n",
    "            med_count += 1\n",
    "        if \"do=\\\"nm\\\"\" not in line:\n",
    "            dosage_count += 1\n",
    "        if \"mo=\\\"nm\\\"\" not in line:\n",
    "            mode_count += 1\n",
    "        if \"f=\\\"nm\\\"\" not in line:\n",
    "            freq_count += 1\n",
    "        if \"du=\\\"nm\\\"\" not in line:\n",
    "            dur_count += 1\n",
    "        if \"r=\\\"nm\\\"\" not in line:\n",
    "            reason_count += 1\n",
    "        \n",
    "print(\"Medication annotations: \", med_count)\n",
    "print(\"Dosage annotations: \", dosage_count)\n",
    "print(\"Mode annotations: \", mode_count)\n",
    "print(\"Frequency annotations: \", freq_count)\n",
    "print(\"Duration annotations: \", dur_count)\n",
    "print(\"Reason annotations: \", reason_count)\n"
   ]
  },
  {
   "cell_type": "markdown",
   "metadata": {},
   "source": [
    "## Build annotations data frame"
   ]
  },
  {
   "cell_type": "code",
   "execution_count": 37,
   "metadata": {},
   "outputs": [],
   "source": [
    "annotations_df = pd.DataFrame(columns=annotations_cols)  # reset df\n",
    "tmp_list = []\n",
    "\n",
    "for i, document in enumerate(a_corpus):\n",
    "    \n",
    "    for row in document:\n",
    "        row = row.split(\"||\")\n",
    "        # print(row, \"\\n\")\n",
    "        \n",
    "        for tag in row: \n",
    "            # print(tag)\n",
    "            tag = tag.split(\"=\")\n",
    "            if \":\" in tag[1]:\n",
    "                tag_label = tag[0].lstrip(\" \")\n",
    "                tag_row_a = tag[1].split(\" \")[-2:][0].split(\":\")[0]\n",
    "                tag_row_b = tag[1].split(\" \")[-2:][1].split(\":\")[0]\n",
    "                \n",
    "                # some annotations have non-standard formatting (losing 64 instances)\n",
    "                try:\n",
    "                    tag_offset_a = int(tag[1].split(\" \")[-2:][0].split(\":\")[1])\n",
    "                    tag_offset_b = int(tag[1].split(\" \")[-2:][1].split(\":\")[1])\n",
    "                    length = tag_offset_b - tag_offset_a + 1\n",
    "                    \n",
    "                    # 1 row = 1 token with a tag\n",
    "                    first = True\n",
    "                    BIO_tag = \"B-\"\n",
    "                    if length > 1 and tag_row_a == tag_row_b:\n",
    "                        for offset in range(tag_offset_a, tag_offset_b+1):\n",
    "                            if first: \n",
    "                                tag_label = BIO_tag + tag_label\n",
    "                                first = False\n",
    "                            else:\n",
    "                                tag_label = tag_label.replace(\"B-\", \"I-\")\n",
    "                            tmp_list.append([a_ids[i], tag_label, tag_row_a, offset, 1])\n",
    "                    # TODO: tags over line breaks\n",
    "                    else:\n",
    "                        tmp_list.append([a_ids[i], BIO_tag + tag_label, tag_row_a, tag_offset_a, length])\n",
    "                except:\n",
    "                    pass             \n",
    "\n",
    "annotations_df = pd.DataFrame(tmp_list, columns=annotations_cols)\n",
    "annotations_df.reset_index(inplace=True)\n",
    "                        "
   ]
  },
  {
   "cell_type": "code",
   "execution_count": 38,
   "metadata": {},
   "outputs": [
    {
     "data": {
      "text/plain": [
       "(37071, 4)"
      ]
     },
     "execution_count": 38,
     "metadata": {},
     "output_type": "execute_result"
    }
   ],
   "source": [
    "annotations_df = annotations_df.drop(columns=[\"index\", \"length\"])\n",
    "annotations_df.shape"
   ]
  },
  {
   "cell_type": "code",
   "execution_count": 39,
   "metadata": {
    "scrolled": true
   },
   "outputs": [
    {
     "data": {
      "text/html": [
       "<div>\n",
       "<style scoped>\n",
       "    .dataframe tbody tr th:only-of-type {\n",
       "        vertical-align: middle;\n",
       "    }\n",
       "\n",
       "    .dataframe tbody tr th {\n",
       "        vertical-align: top;\n",
       "    }\n",
       "\n",
       "    .dataframe thead th {\n",
       "        text-align: right;\n",
       "    }\n",
       "</style>\n",
       "<table border=\"1\" class=\"dataframe\">\n",
       "  <thead>\n",
       "    <tr style=\"text-align: right;\">\n",
       "      <th></th>\n",
       "      <th>id</th>\n",
       "      <th>NER_tag</th>\n",
       "      <th>row</th>\n",
       "      <th>offset</th>\n",
       "    </tr>\n",
       "  </thead>\n",
       "  <tbody>\n",
       "    <tr>\n",
       "      <th>0</th>\n",
       "      <td>661</td>\n",
       "      <td>B-m</td>\n",
       "      <td>16</td>\n",
       "      <td>0</td>\n",
       "    </tr>\n",
       "    <tr>\n",
       "      <th>1</th>\n",
       "      <td>661</td>\n",
       "      <td>I-m</td>\n",
       "      <td>16</td>\n",
       "      <td>1</td>\n",
       "    </tr>\n",
       "    <tr>\n",
       "      <th>2</th>\n",
       "      <td>661</td>\n",
       "      <td>B-do</td>\n",
       "      <td>16</td>\n",
       "      <td>2</td>\n",
       "    </tr>\n",
       "    <tr>\n",
       "      <th>3</th>\n",
       "      <td>661</td>\n",
       "      <td>I-do</td>\n",
       "      <td>16</td>\n",
       "      <td>3</td>\n",
       "    </tr>\n",
       "    <tr>\n",
       "      <th>4</th>\n",
       "      <td>661</td>\n",
       "      <td>B-mo</td>\n",
       "      <td>16</td>\n",
       "      <td>4</td>\n",
       "    </tr>\n",
       "  </tbody>\n",
       "</table>\n",
       "</div>"
      ],
      "text/plain": [
       "    id NER_tag row  offset\n",
       "0  661     B-m  16       0\n",
       "1  661     I-m  16       1\n",
       "2  661    B-do  16       2\n",
       "3  661    I-do  16       3\n",
       "4  661    B-mo  16       4"
      ]
     },
     "execution_count": 39,
     "metadata": {},
     "output_type": "execute_result"
    }
   ],
   "source": [
    "annotations_df.head()"
   ]
  },
  {
   "cell_type": "code",
   "execution_count": 40,
   "metadata": {},
   "outputs": [
    {
     "data": {
      "text/html": [
       "<div>\n",
       "<style scoped>\n",
       "    .dataframe tbody tr th:only-of-type {\n",
       "        vertical-align: middle;\n",
       "    }\n",
       "\n",
       "    .dataframe tbody tr th {\n",
       "        vertical-align: top;\n",
       "    }\n",
       "\n",
       "    .dataframe thead th {\n",
       "        text-align: right;\n",
       "    }\n",
       "</style>\n",
       "<table border=\"1\" class=\"dataframe\">\n",
       "  <thead>\n",
       "    <tr style=\"text-align: right;\">\n",
       "      <th></th>\n",
       "      <th>id</th>\n",
       "      <th>row</th>\n",
       "      <th>offset</th>\n",
       "      <th>word</th>\n",
       "    </tr>\n",
       "  </thead>\n",
       "  <tbody>\n",
       "    <tr>\n",
       "      <th>0</th>\n",
       "      <td>0</td>\n",
       "      <td>0</td>\n",
       "      <td>0</td>\n",
       "      <td>-DOCSTART-</td>\n",
       "    </tr>\n",
       "    <tr>\n",
       "      <th>1</th>\n",
       "      <td>0</td>\n",
       "      <td>0</td>\n",
       "      <td>0</td>\n",
       "      <td>-EMPTYLINE-</td>\n",
       "    </tr>\n",
       "    <tr>\n",
       "      <th>2</th>\n",
       "      <td>661</td>\n",
       "      <td>1</td>\n",
       "      <td>0</td>\n",
       "      <td>RECORD</td>\n",
       "    </tr>\n",
       "    <tr>\n",
       "      <th>3</th>\n",
       "      <td>661</td>\n",
       "      <td>1</td>\n",
       "      <td>1</td>\n",
       "      <td>#661</td>\n",
       "    </tr>\n",
       "    <tr>\n",
       "      <th>4</th>\n",
       "      <td>661</td>\n",
       "      <td>2</td>\n",
       "      <td>0</td>\n",
       "      <td>753455514</td>\n",
       "    </tr>\n",
       "  </tbody>\n",
       "</table>\n",
       "</div>"
      ],
      "text/plain": [
       "    id  row  offset         word\n",
       "0    0    0       0   -DOCSTART-\n",
       "1    0    0       0  -EMPTYLINE-\n",
       "2  661    1       0       RECORD\n",
       "3  661    1       1         #661\n",
       "4  661    2       0    753455514"
      ]
     },
     "execution_count": 40,
     "metadata": {},
     "output_type": "execute_result"
    }
   ],
   "source": [
    "entries_df.head()"
   ]
  },
  {
   "cell_type": "code",
   "execution_count": 41,
   "metadata": {},
   "outputs": [
    {
     "data": {
      "text/plain": [
       "['RECORD', '#661']"
      ]
     },
     "execution_count": 41,
     "metadata": {},
     "output_type": "execute_result"
    }
   ],
   "source": [
    "e_corpus[0][0].split(\" \")"
   ]
  },
  {
   "cell_type": "markdown",
   "metadata": {},
   "source": [
    "## Build entries data frame"
   ]
  },
  {
   "cell_type": "raw",
   "metadata": {},
   "source": [
    "List of token modifications:\n",
    "    - \"|\": ignored\n",
    "    - \".\" removed from end of token"
   ]
  },
  {
   "cell_type": "code",
   "execution_count": 42,
   "metadata": {},
   "outputs": [],
   "source": [
    "entries_df = pd.DataFrame(columns=entries_cols)  # reset df\n",
    "tmp_list = []\n",
    "\n",
    "for doc_i, document in enumerate(e_corpus):\n",
    "    \n",
    "    tmp_list.append([0, 0, 0, \"-DOCSTART-\"])\n",
    "    tmp_list.append([0, 0, 0, \"-EMPTYLINE-\"])\n",
    "    \n",
    "    for row_i, row in enumerate(document):\n",
    "        row_split = row.split(\" \")\n",
    "        for word_i, word in enumerate(row_split):\n",
    "            word = word.rstrip(\".\")  # strip \".\" from end of word\n",
    "            word = word.replace(\"\\t\", \"\")\n",
    "            word_id = a_ids[doc_i]\n",
    "            word_row = row_i+1  # 1-based indexing \n",
    "            word_offset = word_i # 0-based indexing\n",
    "            \n",
    "            if len(word) > 0 and \"|\" not in word:\n",
    "                tmp_list.append([word_id, word_row, word_offset, word])\n",
    "        \n",
    "    tmp_list.append([0, 0, 0, \"-EMPTYLINE-\"])\n",
    "\n",
    "entries_df = pd.DataFrame(tmp_list, columns=entries_cols)\n"
   ]
  },
  {
   "cell_type": "code",
   "execution_count": 43,
   "metadata": {
    "scrolled": true
   },
   "outputs": [
    {
     "data": {
      "text/html": [
       "<div>\n",
       "<style scoped>\n",
       "    .dataframe tbody tr th:only-of-type {\n",
       "        vertical-align: middle;\n",
       "    }\n",
       "\n",
       "    .dataframe tbody tr th {\n",
       "        vertical-align: top;\n",
       "    }\n",
       "\n",
       "    .dataframe thead th {\n",
       "        text-align: right;\n",
       "    }\n",
       "</style>\n",
       "<table border=\"1\" class=\"dataframe\">\n",
       "  <thead>\n",
       "    <tr style=\"text-align: right;\">\n",
       "      <th></th>\n",
       "      <th>id</th>\n",
       "      <th>row</th>\n",
       "      <th>offset</th>\n",
       "      <th>word</th>\n",
       "    </tr>\n",
       "  </thead>\n",
       "  <tbody>\n",
       "    <tr>\n",
       "      <th>0</th>\n",
       "      <td>0</td>\n",
       "      <td>0</td>\n",
       "      <td>0</td>\n",
       "      <td>-DOCSTART-</td>\n",
       "    </tr>\n",
       "    <tr>\n",
       "      <th>1</th>\n",
       "      <td>0</td>\n",
       "      <td>0</td>\n",
       "      <td>0</td>\n",
       "      <td>-EMPTYLINE-</td>\n",
       "    </tr>\n",
       "    <tr>\n",
       "      <th>2</th>\n",
       "      <td>661</td>\n",
       "      <td>1</td>\n",
       "      <td>0</td>\n",
       "      <td>RECORD</td>\n",
       "    </tr>\n",
       "    <tr>\n",
       "      <th>3</th>\n",
       "      <td>661</td>\n",
       "      <td>1</td>\n",
       "      <td>1</td>\n",
       "      <td>#661</td>\n",
       "    </tr>\n",
       "    <tr>\n",
       "      <th>4</th>\n",
       "      <td>661</td>\n",
       "      <td>2</td>\n",
       "      <td>0</td>\n",
       "      <td>753455514</td>\n",
       "    </tr>\n",
       "  </tbody>\n",
       "</table>\n",
       "</div>"
      ],
      "text/plain": [
       "    id  row  offset         word\n",
       "0    0    0       0   -DOCSTART-\n",
       "1    0    0       0  -EMPTYLINE-\n",
       "2  661    1       0       RECORD\n",
       "3  661    1       1         #661\n",
       "4  661    2       0    753455514"
      ]
     },
     "execution_count": 43,
     "metadata": {},
     "output_type": "execute_result"
    }
   ],
   "source": [
    "entries_df.head()"
   ]
  },
  {
   "cell_type": "code",
   "execution_count": 44,
   "metadata": {
    "scrolled": true
   },
   "outputs": [
    {
     "data": {
      "text/html": [
       "<div>\n",
       "<style scoped>\n",
       "    .dataframe tbody tr th:only-of-type {\n",
       "        vertical-align: middle;\n",
       "    }\n",
       "\n",
       "    .dataframe tbody tr th {\n",
       "        vertical-align: top;\n",
       "    }\n",
       "\n",
       "    .dataframe thead th {\n",
       "        text-align: right;\n",
       "    }\n",
       "</style>\n",
       "<table border=\"1\" class=\"dataframe\">\n",
       "  <thead>\n",
       "    <tr style=\"text-align: right;\">\n",
       "      <th></th>\n",
       "      <th>id</th>\n",
       "      <th>NER_tag</th>\n",
       "      <th>row</th>\n",
       "      <th>offset</th>\n",
       "    </tr>\n",
       "  </thead>\n",
       "  <tbody>\n",
       "    <tr>\n",
       "      <th>0</th>\n",
       "      <td>661</td>\n",
       "      <td>B-m</td>\n",
       "      <td>16</td>\n",
       "      <td>0</td>\n",
       "    </tr>\n",
       "    <tr>\n",
       "      <th>1</th>\n",
       "      <td>661</td>\n",
       "      <td>I-m</td>\n",
       "      <td>16</td>\n",
       "      <td>1</td>\n",
       "    </tr>\n",
       "    <tr>\n",
       "      <th>2</th>\n",
       "      <td>661</td>\n",
       "      <td>B-do</td>\n",
       "      <td>16</td>\n",
       "      <td>2</td>\n",
       "    </tr>\n",
       "    <tr>\n",
       "      <th>3</th>\n",
       "      <td>661</td>\n",
       "      <td>I-do</td>\n",
       "      <td>16</td>\n",
       "      <td>3</td>\n",
       "    </tr>\n",
       "    <tr>\n",
       "      <th>4</th>\n",
       "      <td>661</td>\n",
       "      <td>B-mo</td>\n",
       "      <td>16</td>\n",
       "      <td>4</td>\n",
       "    </tr>\n",
       "  </tbody>\n",
       "</table>\n",
       "</div>"
      ],
      "text/plain": [
       "    id NER_tag row  offset\n",
       "0  661     B-m  16       0\n",
       "1  661     I-m  16       1\n",
       "2  661    B-do  16       2\n",
       "3  661    I-do  16       3\n",
       "4  661    B-mo  16       4"
      ]
     },
     "execution_count": 44,
     "metadata": {},
     "output_type": "execute_result"
    }
   ],
   "source": [
    "annotations_df.head()"
   ]
  },
  {
   "cell_type": "code",
   "execution_count": 45,
   "metadata": {},
   "outputs": [
    {
     "name": "stdout",
     "output_type": "stream",
     "text": [
      "23926 named entities\n"
     ]
    }
   ],
   "source": [
    "ner_counter = [1 for i in annotations_df[\"NER_tag\"] if \"B-\" in i]\n",
    "print(len(ner_counter), \"named entities\")"
   ]
  },
  {
   "cell_type": "markdown",
   "metadata": {},
   "source": [
    "## Joing entries and annotations"
   ]
  },
  {
   "cell_type": "code",
   "execution_count": 46,
   "metadata": {},
   "outputs": [],
   "source": [
    "# ensure correct dtypes\n",
    "annotations_df[['id', 'row', 'offset']] = annotations_df[['id', 'row', 'offset']].apply(pd.to_numeric)\n",
    "annotations_df['NER_tag'] = annotations_df[\"NER_tag\"].astype(str)\n",
    "entries_df[['id', 'row', 'offset']] = entries_df[['id', 'row', 'offset']].apply(pd.to_numeric)\n",
    "entries_df[\"word\"] = entries_df[\"word\"].astype(str)\n"
   ]
  },
  {
   "cell_type": "code",
   "execution_count": 47,
   "metadata": {},
   "outputs": [],
   "source": [
    "result_df = pd.merge(entries_df, annotations_df, how=\"left\", on=['id', 'row', 'offset'])"
   ]
  },
  {
   "cell_type": "code",
   "execution_count": 48,
   "metadata": {
    "scrolled": true
   },
   "outputs": [
    {
     "name": "stdout",
     "output_type": "stream",
     "text": [
      "columns with missing data:\n",
      " id         False\n",
      "row        False\n",
      "offset     False\n",
      "word       False\n",
      "NER_tag     True\n",
      "dtype: bool\n"
     ]
    }
   ],
   "source": [
    "# replace NaNs with \"O\"\n",
    "print(\"columns with missing data:\\n\", result_df.isna().any())\n",
    "result_df = result_df.fillna(\"O\")"
   ]
  },
  {
   "cell_type": "code",
   "execution_count": 49,
   "metadata": {},
   "outputs": [
    {
     "name": "stdout",
     "output_type": "stream",
     "text": [
      "columns with missing data:\n",
      " id         False\n",
      "row        False\n",
      "offset     False\n",
      "word       False\n",
      "NER_tag    False\n",
      "dtype: bool\n"
     ]
    }
   ],
   "source": [
    "print(\"columns with missing data:\\n\", result_df.isna().any())"
   ]
  },
  {
   "cell_type": "code",
   "execution_count": 50,
   "metadata": {},
   "outputs": [
    {
     "data": {
      "text/html": [
       "<div>\n",
       "<style scoped>\n",
       "    .dataframe tbody tr th:only-of-type {\n",
       "        vertical-align: middle;\n",
       "    }\n",
       "\n",
       "    .dataframe tbody tr th {\n",
       "        vertical-align: top;\n",
       "    }\n",
       "\n",
       "    .dataframe thead th {\n",
       "        text-align: right;\n",
       "    }\n",
       "</style>\n",
       "<table border=\"1\" class=\"dataframe\">\n",
       "  <thead>\n",
       "    <tr style=\"text-align: right;\">\n",
       "      <th></th>\n",
       "      <th>word</th>\n",
       "      <th>NER_tag</th>\n",
       "    </tr>\n",
       "  </thead>\n",
       "  <tbody>\n",
       "    <tr>\n",
       "      <th>0</th>\n",
       "      <td>-DOCSTART-</td>\n",
       "      <td>O</td>\n",
       "    </tr>\n",
       "    <tr>\n",
       "      <th>1</th>\n",
       "      <td>-EMPTYLINE-</td>\n",
       "      <td>O</td>\n",
       "    </tr>\n",
       "    <tr>\n",
       "      <th>2</th>\n",
       "      <td>RECORD</td>\n",
       "      <td>O</td>\n",
       "    </tr>\n",
       "    <tr>\n",
       "      <th>3</th>\n",
       "      <td>#661</td>\n",
       "      <td>O</td>\n",
       "    </tr>\n",
       "    <tr>\n",
       "      <th>4</th>\n",
       "      <td>753455514</td>\n",
       "      <td>O</td>\n",
       "    </tr>\n",
       "  </tbody>\n",
       "</table>\n",
       "</div>"
      ],
      "text/plain": [
       "          word NER_tag\n",
       "0   -DOCSTART-       O\n",
       "1  -EMPTYLINE-       O\n",
       "2       RECORD       O\n",
       "3         #661       O\n",
       "4    753455514       O"
      ]
     },
     "execution_count": 50,
     "metadata": {},
     "output_type": "execute_result"
    }
   ],
   "source": [
    "result_df = result_df.drop(columns=[\"id\", \"row\", \"offset\"])\n",
    "result_df.head()"
   ]
  },
  {
   "cell_type": "code",
   "execution_count": 51,
   "metadata": {},
   "outputs": [
    {
     "data": {
      "text/plain": [
       "(295530, 2)"
      ]
     },
     "execution_count": 51,
     "metadata": {},
     "output_type": "execute_result"
    }
   ],
   "source": [
    "result_df.shape"
   ]
  },
  {
   "cell_type": "code",
   "execution_count": 53,
   "metadata": {},
   "outputs": [
    {
     "name": "stdout",
     "output_type": "stream",
     "text": [
      "23920 named entities\n"
     ]
    }
   ],
   "source": [
    "# 71 fewer annotations than expected as annotations over line breaks are not included\n",
    "ner_counter = [1 for i in result_df[\"NER_tag\"] if \"B-\" in i]\n",
    "print(len(ner_counter), \"named entities\")"
   ]
  },
  {
   "cell_type": "markdown",
   "metadata": {},
   "source": [
    "# POS tagger"
   ]
  },
  {
   "cell_type": "code",
   "execution_count": null,
   "metadata": {},
   "outputs": [],
   "source": [
    "from nltk.chunk.regexp import RegexpChunkParser, ChunkRule, RegexpParser\n",
    "from nltk.tree import Tree"
   ]
  },
  {
   "cell_type": "code",
   "execution_count": 54,
   "metadata": {},
   "outputs": [],
   "source": [
    "text = result_df[\"word\"].tolist()\n",
    "text_pos = pos_tag(text)\n",
    "text_pos_list = [i[1] for i in text_pos]"
   ]
  },
  {
   "cell_type": "code",
   "execution_count": 55,
   "metadata": {},
   "outputs": [
    {
     "data": {
      "text/plain": [
       "295530"
      ]
     },
     "execution_count": 55,
     "metadata": {},
     "output_type": "execute_result"
    }
   ],
   "source": [
    "len(text_pos_list)"
   ]
  },
  {
   "cell_type": "code",
   "execution_count": 56,
   "metadata": {},
   "outputs": [
    {
     "data": {
      "text/plain": [
       "Index(['word', 'NER_tag'], dtype='object')"
      ]
     },
     "execution_count": 56,
     "metadata": {},
     "output_type": "execute_result"
    }
   ],
   "source": [
    "result_df.columns"
   ]
  },
  {
   "cell_type": "code",
   "execution_count": 57,
   "metadata": {},
   "outputs": [],
   "source": [
    "result_df[\"POS_tag\"] = text_pos_list"
   ]
  },
  {
   "cell_type": "code",
   "execution_count": 58,
   "metadata": {},
   "outputs": [
    {
     "data": {
      "text/html": [
       "<div>\n",
       "<style scoped>\n",
       "    .dataframe tbody tr th:only-of-type {\n",
       "        vertical-align: middle;\n",
       "    }\n",
       "\n",
       "    .dataframe tbody tr th {\n",
       "        vertical-align: top;\n",
       "    }\n",
       "\n",
       "    .dataframe thead th {\n",
       "        text-align: right;\n",
       "    }\n",
       "</style>\n",
       "<table border=\"1\" class=\"dataframe\">\n",
       "  <thead>\n",
       "    <tr style=\"text-align: right;\">\n",
       "      <th></th>\n",
       "      <th>word</th>\n",
       "      <th>NER_tag</th>\n",
       "      <th>POS_tag</th>\n",
       "    </tr>\n",
       "  </thead>\n",
       "  <tbody>\n",
       "    <tr>\n",
       "      <th>0</th>\n",
       "      <td>-DOCSTART-</td>\n",
       "      <td>O</td>\n",
       "      <td>JJ</td>\n",
       "    </tr>\n",
       "    <tr>\n",
       "      <th>1</th>\n",
       "      <td>-EMPTYLINE-</td>\n",
       "      <td>O</td>\n",
       "      <td>NN</td>\n",
       "    </tr>\n",
       "    <tr>\n",
       "      <th>2</th>\n",
       "      <td>RECORD</td>\n",
       "      <td>O</td>\n",
       "      <td>NNP</td>\n",
       "    </tr>\n",
       "    <tr>\n",
       "      <th>3</th>\n",
       "      <td>#661</td>\n",
       "      <td>O</td>\n",
       "      <td>VBZ</td>\n",
       "    </tr>\n",
       "    <tr>\n",
       "      <th>4</th>\n",
       "      <td>753455514</td>\n",
       "      <td>O</td>\n",
       "      <td>CD</td>\n",
       "    </tr>\n",
       "  </tbody>\n",
       "</table>\n",
       "</div>"
      ],
      "text/plain": [
       "          word NER_tag POS_tag\n",
       "0   -DOCSTART-       O      JJ\n",
       "1  -EMPTYLINE-       O      NN\n",
       "2       RECORD       O     NNP\n",
       "3         #661       O     VBZ\n",
       "4    753455514       O      CD"
      ]
     },
     "execution_count": 58,
     "metadata": {},
     "output_type": "execute_result"
    }
   ],
   "source": [
    "result_df.head()"
   ]
  },
  {
   "cell_type": "markdown",
   "metadata": {},
   "source": [
    "# CoNLL chunk tagger"
   ]
  },
  {
   "cell_type": "code",
   "execution_count": 60,
   "metadata": {},
   "outputs": [],
   "source": [
    "text_test = \"EU rejects German call to boycott British lamb.\".split(\" \")\n",
    "text_pos_test = pos_tag(text_test)"
   ]
  },
  {
   "cell_type": "code",
   "execution_count": 61,
   "metadata": {},
   "outputs": [
    {
     "data": {
      "text/plain": [
       "[('EU', 'NNP'),\n",
       " ('rejects', 'VBZ'),\n",
       " ('German', 'JJ'),\n",
       " ('call', 'NN'),\n",
       " ('to', 'TO'),\n",
       " ('boycott', 'VB'),\n",
       " ('British', 'JJ'),\n",
       " ('lamb.', 'NN')]"
      ]
     },
     "execution_count": 61,
     "metadata": {},
     "output_type": "execute_result"
    }
   ],
   "source": [
    "text_pos_test"
   ]
  },
  {
   "cell_type": "raw",
   "metadata": {},
   "source": [
    "# used for building regex \n",
    "grammar = r\"\"\"\n",
    "    NP: {<DT|PP\\$>?<JJ>*<NN.*>+} # noun phrase\n",
    "    PP: {<IN><NP>}               # prepositional phrase\n",
    "    VP: {<MD>?<VB.*><NP|PP>}     # verb phrase\n",
    "    CLAUSE: {<NP><VP>}           # full clause\n",
    "\"\"\""
   ]
  },
  {
   "cell_type": "markdown",
   "metadata": {},
   "source": [
    "### Noun phrases"
   ]
  },
  {
   "cell_type": "code",
   "execution_count": 62,
   "metadata": {},
   "outputs": [],
   "source": [
    "rule_0 = ChunkRule(\"<DT>?<JJ.*>*<NN.*>+\", \"More complete chunk NP sequences\")\n",
    "\n",
    "chunk_parser_np = RegexpChunkParser([rule_0],chunk_label='NP')\n",
    "\n",
    "chunk_result_tree_np = chunk_parser_np.parse(text_pos)\n"
   ]
  },
  {
   "cell_type": "code",
   "execution_count": 63,
   "metadata": {},
   "outputs": [],
   "source": [
    "chunk_tag_np = []\n",
    "\n",
    "for i in chunk_result_tree_np:\n",
    "    if isinstance(i, Tree):\n",
    "        for j in range(0, len(i)):\n",
    "            if j == 0:\n",
    "                # print(\"B-\" + i.label())\n",
    "                chunk_tag_np.append(\"B-\" + i.label())\n",
    "            else:\n",
    "                chunk_tag_np.append(\"I-\" + i.label())\n",
    "                # print(\"I-\" + i.label())\n",
    "    else:\n",
    "        # print(\"O\")\n",
    "        chunk_tag_np.append(\"O\")\n"
   ]
  },
  {
   "cell_type": "code",
   "execution_count": 64,
   "metadata": {},
   "outputs": [
    {
     "data": {
      "text/plain": [
       "True"
      ]
     },
     "execution_count": 64,
     "metadata": {},
     "output_type": "execute_result"
    }
   ],
   "source": [
    "len(chunk_tag_np) == result_df.shape[0]  # check that chunk col has same length"
   ]
  },
  {
   "cell_type": "markdown",
   "metadata": {},
   "source": [
    "### Verb phrases"
   ]
  },
  {
   "cell_type": "code",
   "execution_count": 65,
   "metadata": {},
   "outputs": [],
   "source": [
    "rule_1 = ChunkRule(\"<VBD|IN|\\.>\", \"Verb phrases\")\n",
    "\n",
    "chunk_parser_vp = RegexpChunkParser([rule_1],chunk_label='VP')\n",
    "\n",
    "chunk_result_tree_vp = chunk_parser_vp.parse(text_pos)"
   ]
  },
  {
   "cell_type": "code",
   "execution_count": 66,
   "metadata": {},
   "outputs": [],
   "source": [
    "chunk_tag_vp = []\n",
    "\n",
    "for i in chunk_result_tree_vp:\n",
    "    if isinstance(i, Tree):\n",
    "        for j in range(0, len(i)):\n",
    "            if j == 0:\n",
    "                # print(\"B-\" + i.label())\n",
    "                chunk_tag_vp.append(\"B-\" + i.label())\n",
    "            else:\n",
    "                chunk_tag_vp.append(\"I-\" + i.label())\n",
    "                # print(\"I-\" + i.label())\n",
    "    else:\n",
    "        # print(\"O\")\n",
    "        chunk_tag_vp.append(\"O\")\n"
   ]
  },
  {
   "cell_type": "code",
   "execution_count": 67,
   "metadata": {},
   "outputs": [
    {
     "data": {
      "text/plain": [
       "True"
      ]
     },
     "execution_count": 67,
     "metadata": {},
     "output_type": "execute_result"
    }
   ],
   "source": [
    "len(chunk_tag_np) == result_df.shape[0] == len(chunk_tag_vp)"
   ]
  },
  {
   "cell_type": "code",
   "execution_count": 68,
   "metadata": {},
   "outputs": [],
   "source": [
    "# augment chunk tags with verb phrase tags\n",
    "for i, entry in enumerate(chunk_tag_np):\n",
    "    if entry == \"O\":\n",
    "        chunk_tag_np[i] = chunk_tag_vp[i]"
   ]
  },
  {
   "cell_type": "markdown",
   "metadata": {},
   "source": [
    "There are not prepositional phrases."
   ]
  },
  {
   "cell_type": "code",
   "execution_count": 69,
   "metadata": {},
   "outputs": [],
   "source": [
    "result_df[\"chunk_tag\"] = chunk_tag_np"
   ]
  },
  {
   "cell_type": "code",
   "execution_count": 70,
   "metadata": {},
   "outputs": [],
   "source": [
    "result_df = result_df[['word', 'POS_tag', 'chunk_tag', 'NER_tag']]  # order columns"
   ]
  },
  {
   "cell_type": "code",
   "execution_count": 71,
   "metadata": {},
   "outputs": [
    {
     "data": {
      "text/plain": [
       "(295530, 4)"
      ]
     },
     "execution_count": 71,
     "metadata": {},
     "output_type": "execute_result"
    }
   ],
   "source": [
    "result_df.shape"
   ]
  },
  {
   "cell_type": "code",
   "execution_count": 72,
   "metadata": {},
   "outputs": [
    {
     "data": {
      "text/plain": [
       "word         object\n",
       "POS_tag      object\n",
       "chunk_tag    object\n",
       "NER_tag      object\n",
       "dtype: object"
      ]
     },
     "execution_count": 72,
     "metadata": {},
     "output_type": "execute_result"
    }
   ],
   "source": [
    "result_df[['word', 'POS_tag', 'chunk_tag', 'NER_tag']] = result_df[['word', 'POS_tag', 'chunk_tag', 'NER_tag']].astype(str)\n",
    "result_df.dtypes"
   ]
  },
  {
   "cell_type": "markdown",
   "metadata": {},
   "source": [
    "### Data split"
   ]
  },
  {
   "cell_type": "code",
   "execution_count": 73,
   "metadata": {},
   "outputs": [
    {
     "data": {
      "text/plain": [
       "(295530, 4)"
      ]
     },
     "execution_count": 73,
     "metadata": {},
     "output_type": "execute_result"
    }
   ],
   "source": [
    "result_df.shape"
   ]
  },
  {
   "cell_type": "code",
   "execution_count": 74,
   "metadata": {},
   "outputs": [],
   "source": [
    "result_df = result_df.reindex()"
   ]
  },
  {
   "cell_type": "code",
   "execution_count": 75,
   "metadata": {
    "scrolled": true
   },
   "outputs": [
    {
     "data": {
      "text/plain": [
       "[0,\n",
       " 1276,\n",
       " 2643,\n",
       " 3501,\n",
       " 4340,\n",
       " 6074,\n",
       " 7605,\n",
       " 8338,\n",
       " 9487,\n",
       " 10492,\n",
       " 11741,\n",
       " 13190,\n",
       " 13931,\n",
       " 15348,\n",
       " 17511,\n",
       " 18295,\n",
       " 19684,\n",
       " 20642,\n",
       " 21666,\n",
       " 22511,\n",
       " 23821,\n",
       " 24967,\n",
       " 25764,\n",
       " 26824,\n",
       " 27569,\n",
       " 28615,\n",
       " 29809,\n",
       " 31305,\n",
       " 32560,\n",
       " 33630,\n",
       " 34563,\n",
       " 35506,\n",
       " 36434,\n",
       " 37709,\n",
       " 38972,\n",
       " 40162,\n",
       " 41597,\n",
       " 42686,\n",
       " 43633,\n",
       " 46140,\n",
       " 46842,\n",
       " 48292,\n",
       " 48972,\n",
       " 51051,\n",
       " 51837,\n",
       " 52981,\n",
       " 54031,\n",
       " 54675,\n",
       " 55827,\n",
       " 56924,\n",
       " 57645,\n",
       " 58901,\n",
       " 61094,\n",
       " 62032,\n",
       " 63227,\n",
       " 64828,\n",
       " 65691,\n",
       " 66136,\n",
       " 66757,\n",
       " 67576,\n",
       " 68389,\n",
       " 69526,\n",
       " 70216,\n",
       " 71449,\n",
       " 72154,\n",
       " 74099,\n",
       " 74623,\n",
       " 75956,\n",
       " 76659,\n",
       " 77380,\n",
       " 79531,\n",
       " 80166,\n",
       " 80972,\n",
       " 82251,\n",
       " 83738,\n",
       " 84245,\n",
       " 84563,\n",
       " 85644,\n",
       " 86514,\n",
       " 87226,\n",
       " 87789,\n",
       " 91627,\n",
       " 92746,\n",
       " 93458,\n",
       " 93789,\n",
       " 94769,\n",
       " 95618,\n",
       " 96868,\n",
       " 98917,\n",
       " 99644,\n",
       " 100381,\n",
       " 101563,\n",
       " 103006,\n",
       " 103894,\n",
       " 104587,\n",
       " 105233,\n",
       " 106952,\n",
       " 107650,\n",
       " 108486,\n",
       " 109462,\n",
       " 110366,\n",
       " 110989,\n",
       " 112770,\n",
       " 114223,\n",
       " 115632,\n",
       " 116943,\n",
       " 118646,\n",
       " 120498,\n",
       " 121307,\n",
       " 123082,\n",
       " 124532,\n",
       " 125961,\n",
       " 126684,\n",
       " 127701,\n",
       " 129822,\n",
       " 130768,\n",
       " 131468,\n",
       " 132054,\n",
       " 133185,\n",
       " 134006,\n",
       " 134851,\n",
       " 137453,\n",
       " 138041,\n",
       " 139881,\n",
       " 140955,\n",
       " 143006,\n",
       " 144253,\n",
       " 145905,\n",
       " 147064,\n",
       " 148374,\n",
       " 149682,\n",
       " 150916,\n",
       " 152255,\n",
       " 153798,\n",
       " 154799,\n",
       " 155308,\n",
       " 156176,\n",
       " 157147,\n",
       " 158113,\n",
       " 159368,\n",
       " 159570,\n",
       " 160872,\n",
       " 161911,\n",
       " 162836,\n",
       " 164831,\n",
       " 165873,\n",
       " 166648,\n",
       " 168317,\n",
       " 169362,\n",
       " 170641,\n",
       " 171211,\n",
       " 171658,\n",
       " 172313,\n",
       " 173273,\n",
       " 174545,\n",
       " 175766,\n",
       " 177636,\n",
       " 178587,\n",
       " 179475,\n",
       " 180434,\n",
       " 180835,\n",
       " 183000,\n",
       " 184760,\n",
       " 186029,\n",
       " 186960,\n",
       " 188217,\n",
       " 188994,\n",
       " 189514,\n",
       " 190497,\n",
       " 192319,\n",
       " 192813,\n",
       " 194698,\n",
       " 195363,\n",
       " 196389,\n",
       " 197472,\n",
       " 199238,\n",
       " 200119,\n",
       " 200855,\n",
       " 202062,\n",
       " 203051,\n",
       " 204198,\n",
       " 204669,\n",
       " 205652,\n",
       " 207284,\n",
       " 208820,\n",
       " 211548,\n",
       " 213479,\n",
       " 214812,\n",
       " 215433,\n",
       " 216211,\n",
       " 217690,\n",
       " 218640,\n",
       " 220040,\n",
       " 222085,\n",
       " 223763,\n",
       " 224637,\n",
       " 225093,\n",
       " 225905,\n",
       " 227360,\n",
       " 227993,\n",
       " 229787,\n",
       " 230480,\n",
       " 231285,\n",
       " 231749,\n",
       " 232645,\n",
       " 233677,\n",
       " 235500,\n",
       " 236219,\n",
       " 236987,\n",
       " 237848,\n",
       " 238619,\n",
       " 239258,\n",
       " 240120,\n",
       " 241623,\n",
       " 243036,\n",
       " 243912,\n",
       " 245032,\n",
       " 245927,\n",
       " 247618,\n",
       " 248033,\n",
       " 249441,\n",
       " 249843,\n",
       " 251360,\n",
       " 251921,\n",
       " 253329,\n",
       " 254537,\n",
       " 255072,\n",
       " 255750,\n",
       " 256872,\n",
       " 257470,\n",
       " 258564,\n",
       " 259880,\n",
       " 261637,\n",
       " 262564,\n",
       " 264117,\n",
       " 265115,\n",
       " 265885,\n",
       " 267401,\n",
       " 268937,\n",
       " 269863,\n",
       " 270687,\n",
       " 271906,\n",
       " 272439,\n",
       " 273116,\n",
       " 274413,\n",
       " 274927,\n",
       " 276259,\n",
       " 276801,\n",
       " 277536,\n",
       " 278605,\n",
       " 279085,\n",
       " 280643,\n",
       " 283419,\n",
       " 284048,\n",
       " 284734,\n",
       " 286176,\n",
       " 287773,\n",
       " 288802,\n",
       " 291775,\n",
       " 292272,\n",
       " 294277]"
      ]
     },
     "execution_count": 75,
     "metadata": {},
     "output_type": "execute_result"
    }
   ],
   "source": [
    "# find indices of new documents\n",
    "result_df[result_df[\"word\"] == \"-DOCSTART-\"].index.values.tolist()"
   ]
  },
  {
   "cell_type": "code",
   "execution_count": 76,
   "metadata": {},
   "outputs": [],
   "source": [
    "train = 202062  \n",
    "dev = 247618\n",
    "result_train_df = result_df.iloc[:train]\n",
    "result_dev_df = result_df.iloc[train:dev]\n",
    "result_test_df = result_df.iloc[dev:]"
   ]
  },
  {
   "cell_type": "code",
   "execution_count": 77,
   "metadata": {},
   "outputs": [
    {
     "data": {
      "text/html": [
       "<div>\n",
       "<style scoped>\n",
       "    .dataframe tbody tr th:only-of-type {\n",
       "        vertical-align: middle;\n",
       "    }\n",
       "\n",
       "    .dataframe tbody tr th {\n",
       "        vertical-align: top;\n",
       "    }\n",
       "\n",
       "    .dataframe thead th {\n",
       "        text-align: right;\n",
       "    }\n",
       "</style>\n",
       "<table border=\"1\" class=\"dataframe\">\n",
       "  <thead>\n",
       "    <tr style=\"text-align: right;\">\n",
       "      <th></th>\n",
       "      <th>word</th>\n",
       "      <th>POS_tag</th>\n",
       "      <th>chunk_tag</th>\n",
       "      <th>NER_tag</th>\n",
       "    </tr>\n",
       "  </thead>\n",
       "  <tbody>\n",
       "    <tr>\n",
       "      <th>295525</th>\n",
       "      <td>6/10</td>\n",
       "      <td>CD</td>\n",
       "      <td>O</td>\n",
       "      <td>O</td>\n",
       "    </tr>\n",
       "    <tr>\n",
       "      <th>295526</th>\n",
       "      <td>T:</td>\n",
       "      <td>NNP</td>\n",
       "      <td>B-NP</td>\n",
       "      <td>O</td>\n",
       "    </tr>\n",
       "    <tr>\n",
       "      <th>295527</th>\n",
       "      <td>1/22</td>\n",
       "      <td>CD</td>\n",
       "      <td>O</td>\n",
       "      <td>O</td>\n",
       "    </tr>\n",
       "    <tr>\n",
       "      <th>295528</th>\n",
       "      <td>[report_end]</td>\n",
       "      <td>NNP</td>\n",
       "      <td>B-NP</td>\n",
       "      <td>O</td>\n",
       "    </tr>\n",
       "    <tr>\n",
       "      <th>295529</th>\n",
       "      <td>-EMPTYLINE-</td>\n",
       "      <td>NN</td>\n",
       "      <td>I-NP</td>\n",
       "      <td>O</td>\n",
       "    </tr>\n",
       "  </tbody>\n",
       "</table>\n",
       "</div>"
      ],
      "text/plain": [
       "                word POS_tag chunk_tag NER_tag\n",
       "295525          6/10      CD         O       O\n",
       "295526            T:     NNP      B-NP       O\n",
       "295527          1/22      CD         O       O\n",
       "295528  [report_end]     NNP      B-NP       O\n",
       "295529   -EMPTYLINE-      NN      I-NP       O"
      ]
     },
     "execution_count": 77,
     "metadata": {},
     "output_type": "execute_result"
    }
   ],
   "source": [
    "result_test_df.tail()"
   ]
  },
  {
   "cell_type": "code",
   "execution_count": 78,
   "metadata": {},
   "outputs": [
    {
     "name": "stdout",
     "output_type": "stream",
     "text": [
      "train shape  (202062, 4)\n",
      "dev shape  (45556, 4)\n",
      "test shape  (47912, 4)\n"
     ]
    }
   ],
   "source": [
    "print(\"train shape \", result_train_df.shape)\n",
    "print(\"dev shape \", result_dev_df.shape)\n",
    "print(\"test shape \", result_test_df.shape)"
   ]
  },
  {
   "cell_type": "code",
   "execution_count": 79,
   "metadata": {},
   "outputs": [],
   "source": [
    "result_df.to_csv(\"result_df_NER_POS_chunk.csv\")"
   ]
  },
  {
   "cell_type": "markdown",
   "metadata": {},
   "source": [
    "# Write to txt"
   ]
  },
  {
   "cell_type": "code",
   "execution_count": 80,
   "metadata": {},
   "outputs": [],
   "source": [
    "np.savetxt(\"train.txt\", result_train_df.values, fmt=\"%s\")\n",
    "np.savetxt(\"valid.txt\", result_dev_df.values, fmt=\"%s\")\n",
    "np.savetxt(\"test.txt\", result_test_df.values, fmt=\"%s\")"
   ]
  }
 ],
 "metadata": {
  "kernelspec": {
   "display_name": "Python 3",
   "language": "python",
   "name": "python3"
  },
  "language_info": {
   "codemirror_mode": {
    "name": "ipython",
    "version": 3
   },
   "file_extension": ".py",
   "mimetype": "text/x-python",
   "name": "python",
   "nbconvert_exporter": "python",
   "pygments_lexer": "ipython3",
   "version": "3.6.5"
  }
 },
 "nbformat": 4,
 "nbformat_minor": 2
}
